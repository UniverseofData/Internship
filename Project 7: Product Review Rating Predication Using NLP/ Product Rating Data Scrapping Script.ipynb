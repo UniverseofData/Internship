{
 "cells": [
  {
   "cell_type": "markdown",
   "id": "d7916911-7384-4c29-8d61-200180c25a69",
   "metadata": {},
   "source": [
    "> ## **Product Rating Data Scrapping Script**\n",
    "By: Yashshree Baviskar\n",
    "Batch : 25"
   ]
  },
  {
   "cell_type": "markdown",
   "id": "fdce19b3",
   "metadata": {},
   "source": [
    "# `RATINGS PREDICTION`\n",
    "\n",
    "We have a client who has a website where people write different reviews for technical products. \n",
    "Now they are adding a new feature to their website i.e. The reviewer will have to add stars(rating) \n",
    "as well with the review. The rating is out 5 stars and it only has 5 options available 1 star, 2 stars, \n",
    "3 stars, 4 stars, 5 stars. Now they want to predict ratings for the reviews which were written in the \n",
    "past and they don’t have a rating. So, we have to build an application which can predict the rating \n",
    "by seeing the review.\n",
    "\n",
    "# `Data Collection Phase:` \n",
    "You have to scrape at least 20000 rows of data. You can scrape more data as well, it’s up to you. \n",
    "more the data better the model.\n",
    "\n",
    "In this section you need to scrape the reviews of different laptops, Phones, Headphones, smart \n",
    "watches, Professional Cameras, Printers, Monitors, Home theater, Router from different e\u0002commerce websites.\n",
    "Basically, we need these columns\n",
    "1) reviews of the product.\n",
    "2) rating of the product.\n",
    "You can fetch other data as well, if you think data can be useful or can help in the project. It \n",
    "completely depends on your imagination or assumption."
   ]
  },
  {
   "cell_type": "code",
   "execution_count": 1,
   "id": "67a6d9cb",
   "metadata": {},
   "outputs": [],
   "source": [
    "## importing the libraries:\n",
    "import selenium\n",
    "from selenium import webdriver\n",
    "import pandas as pd\n",
    "import numpy as np\n",
    "import time\n",
    "\n",
    "import re\n",
    "\n",
    "## importing require exceptions:-\n",
    "from selenium.common.exceptions import NoSuchElementException, StaleElementReferenceException,WebDriverException \n",
    "from selenium.webdriver.common.keys import Keys\n",
    "from selenium.webdriver.common.by import By\n",
    "from selenium.webdriver.support.ui import WebDriverWait\n",
    "from selenium.webdriver.common.action_chains import ActionChains\n",
    "\n",
    "import warnings\n",
    "warnings.filterwarnings('ignore')"
   ]
  },
  {
   "cell_type": "code",
   "execution_count": 174,
   "id": "20d4c594",
   "metadata": {},
   "outputs": [
    {
     "data": {
      "text/plain": [
       "<selenium.webdriver.chrome.webdriver.WebDriver (session=\"fb7a3ee47e7516dc9555be5308fc69eb\")>"
      ]
     },
     "execution_count": 174,
     "metadata": {},
     "output_type": "execute_result"
    }
   ],
   "source": [
    "driver=webdriver.Chrome('chromedriver.exe')\n",
    "driver"
   ]
  },
  {
   "cell_type": "markdown",
   "id": "d0ed4240",
   "metadata": {},
   "source": [
    "# `FlipKart`"
   ]
  },
  {
   "cell_type": "code",
   "execution_count": 108,
   "id": "44a2ac99",
   "metadata": {},
   "outputs": [],
   "source": [
    "## fetching the websites\n",
    "driver.get(\"https://www.flipkart.com/\")\n",
    "time.sleep(2)\n",
    "\n",
    "#clicking on the pop-up Add's cancel button:- \n",
    "driver.find_element_by_xpath(\"//div[@class='_2QfC02']/button\").click()\n",
    "\n",
    "Item_List=['laptops','Smartphones','smart watches' ,'Computer moniters', \n",
    "                 'Digital Watches','Cameras','Trimmers','Keyboards']\n"
   ]
  },
  {
   "cell_type": "code",
   "execution_count": 109,
   "id": "e497e28c",
   "metadata": {},
   "outputs": [],
   "source": [
    "reviews=[]\n",
    "full_reviews=[]\n",
    "ratings=[]"
   ]
  },
  {
   "cell_type": "code",
   "execution_count": 119,
   "id": "a85a2bc3",
   "metadata": {},
   "outputs": [],
   "source": [
    "#product_urls=[]\n",
    "for i in Item_List:\n",
    "    # Find the search bar\n",
    "    search_button = driver.find_element_by_xpath(\"//div[@class='_3OO5Xc']/input\")\n",
    "    search_button.clear()\n",
    "    search_button.send_keys(i)\n",
    "     Clicking on the search button\n",
    "    driver.find_element_by_xpath(\"//button[@class='L0Z3Pu']\").click()\n",
    "    time.sleep(3)\n",
    "    \n",
    "    ## we will scrap atleast 2 pages product of each items\n",
    "    page_no_url = []\n",
    "    tag= driver.find_elements_by_xpath(\"//nav[@class='yFHi8N']/a\")\n",
    "    for i in tag:\n",
    "        page_no_url.append(i.get_attribute('href'))\n",
    "    for i in page_no_url[0:3]:\n",
    "        driver.get(i)\n",
    "        time.sleep(3)\n",
    "        \n",
    "        ## now appending all products urls from page 1 and page 2:\n",
    "        new_tag = driver.find_elements_by_xpath(\"//a[@class='_1fQZEK']\")\n",
    "        for i in new_tag:\n",
    "            product_urls.append(i.get_attribute('href'))\n",
    "print(len(product_urls))  "
   ]
  },
  {
   "cell_type": "markdown",
   "id": "39e3443e",
   "metadata": {},
   "source": [
    "#### Scapping all the reviews of every product:"
   ]
  },
  {
   "cell_type": "code",
   "execution_count": 118,
   "id": "b48679ec",
   "metadata": {},
   "outputs": [],
   "source": [
    "## iterating all products urls one by one:\n",
    "for i in product_urls[:3]:\n",
    "    driver.get(i)\n",
    "    time.sleep(2)\n",
    "    for _ in range(2):\n",
    "        ## moving cursor deep down on the page\n",
    "        driver.execute_script(\"window.scrollBy(0,6000)\")\n",
    "        time.sleep(1)\n",
    "        \n",
    "    # Clicking on \"see all the reviews\" button:\n",
    "    try:\n",
    "        tag=driver.find_element_by_xpath(\"//div[@class='_2c2kV-']/following::a\")\n",
    "        url = tag.get_attribute('href')\n",
    "        #fetching the url\n",
    "        driver.get(url)\n",
    "        time.sleep(1)\n",
    "    except NoSuchElementException:\n",
    "        pass\n",
    "    try:\n",
    "        tag=driver.find_elements_by_xpath(\"//div[@class='t-ZTKy']\")\n",
    "        for i in tag:\n",
    "            full_reviews.append(i.text)\n",
    "    except NoSuchElementException:\n",
    "        full_reviews.append('-')\n",
    "    try:\n",
    "        tag=driver.find_elements_by_xpath(\"//p[@class='_2-N8zT']\")\n",
    "        for i in tag:\n",
    "            reviews.append(i.text)\n",
    "    except NoSuchElementException:\n",
    "        reviews.append('-')\n",
    "    try:\n",
    "        tag=driver.find_elements_by_xpath(\"//p[@class='_2-N8zT']/../div\")\n",
    "        for i in tag:\n",
    "            ratings.append(i.text)\n",
    "    except NoSuchElementException:\n",
    "        ratings.append('-')\n",
    "               \n",
    "    try:\n",
    "        no_of_pages=driver.find_elements_by_xpath(\"//nav[@class='yFHi8N']/a\")\n",
    "        ListOfNP=[]\n",
    "        for i in no_of_page:\n",
    "            ListOfNP.append(i.get_attribute('href'))\n",
    "        for i in ListOfNP[0:15]:\n",
    "            driver.get(i)\n",
    "            time.sleep(1)\n",
    "            try:\n",
    "                tag=driver.find_elements_by_xpath(\"//div[@class='t-ZTKy']\")\n",
    "                for i in tag:\n",
    "                    full_reviews.append(i.text)\n",
    "            except NoSuchElementException:\n",
    "                full_reviews.append('-')\n",
    "            try:\n",
    "                tag=driver.find_elements_by_xpath(\"//p[@class='_2-N8zT']\")\n",
    "                for i in tag:\n",
    "                    reviews.append(i.text)\n",
    "            except NoSuchElementException:\n",
    "                reviews.append('-')\n",
    "            try:\n",
    "                tag=driver.find_elements_by_xpath(\"//p[@class='_2-N8zT']/../div\")\n",
    "                for i in tag:\n",
    "                    ratings.append(i.text)\n",
    "            except NoSuchElementException:\n",
    "                ratings.append('-')    \n",
    "    except: continue\n",
    "len(ratings), len(reviews), len(full_reviews)  "
   ]
  },
  {
   "cell_type": "markdown",
   "id": "bc855ba2",
   "metadata": {},
   "source": [
    "## Creating A DATAFRAME"
   ]
  },
  {
   "cell_type": "code",
   "execution_count": 27,
   "id": "e6e531a9",
   "metadata": {},
   "outputs": [
    {
     "data": {
      "text/html": [
       "<div>\n",
       "<style scoped>\n",
       "    .dataframe tbody tr th:only-of-type {\n",
       "        vertical-align: middle;\n",
       "    }\n",
       "\n",
       "    .dataframe tbody tr th {\n",
       "        vertical-align: top;\n",
       "    }\n",
       "\n",
       "    .dataframe thead th {\n",
       "        text-align: right;\n",
       "    }\n",
       "</style>\n",
       "<table border=\"1\" class=\"dataframe\">\n",
       "  <thead>\n",
       "    <tr style=\"text-align: right;\">\n",
       "      <th></th>\n",
       "      <th>Ratings</th>\n",
       "      <th>Review_Text</th>\n",
       "      <th>Summary</th>\n",
       "    </tr>\n",
       "  </thead>\n",
       "  <tbody>\n",
       "    <tr>\n",
       "      <th>0</th>\n",
       "      <td>5</td>\n",
       "      <td>Mannn this is just incredible 😍 i was scared o...</td>\n",
       "      <td>Best in the market!</td>\n",
       "    </tr>\n",
       "    <tr>\n",
       "      <th>1</th>\n",
       "      <td>5</td>\n",
       "      <td>This laptop is soo good and I bought it after ...</td>\n",
       "      <td>Brilliant</td>\n",
       "    </tr>\n",
       "    <tr>\n",
       "      <th>2</th>\n",
       "      <td>5</td>\n",
       "      <td>Amazing laptop just great i bought this produc...</td>\n",
       "      <td>Brilliant</td>\n",
       "    </tr>\n",
       "    <tr>\n",
       "      <th>3</th>\n",
       "      <td>5</td>\n",
       "      <td>Brought this laptop after fair bit of research...</td>\n",
       "      <td>Terrific</td>\n",
       "    </tr>\n",
       "    <tr>\n",
       "      <th>4</th>\n",
       "      <td>5</td>\n",
       "      <td>11400 Has Much Better Single Core Performance ...</td>\n",
       "      <td>Mind-blowing purchase</td>\n",
       "    </tr>\n",
       "    <tr>\n",
       "      <th>...</th>\n",
       "      <td>...</td>\n",
       "      <td>...</td>\n",
       "      <td>...</td>\n",
       "    </tr>\n",
       "    <tr>\n",
       "      <th>32752</th>\n",
       "      <td>5</td>\n",
       "      <td>Good quality bin budget segment, 1 HDMI, 1 VGA...</td>\n",
       "      <td>Perfect product!</td>\n",
       "    </tr>\n",
       "    <tr>\n",
       "      <th>32753</th>\n",
       "      <td>5</td>\n",
       "      <td>Good</td>\n",
       "      <td>Classy product</td>\n",
       "    </tr>\n",
       "    <tr>\n",
       "      <th>32754</th>\n",
       "      <td>5</td>\n",
       "      <td>Nice product! Used for my cctv purpose! Its st...</td>\n",
       "      <td>Classy product</td>\n",
       "    </tr>\n",
       "    <tr>\n",
       "      <th>32755</th>\n",
       "      <td>5</td>\n",
       "      <td>Good product</td>\n",
       "      <td>Perfect product!</td>\n",
       "    </tr>\n",
       "    <tr>\n",
       "      <th>32756</th>\n",
       "      <td>1</td>\n",
       "      <td>Third class</td>\n",
       "      <td>Terrible product</td>\n",
       "    </tr>\n",
       "  </tbody>\n",
       "</table>\n",
       "<p>32757 rows × 3 columns</p>\n",
       "</div>"
      ],
      "text/plain": [
       "      Ratings                                        Review_Text  \\\n",
       "0           5  Mannn this is just incredible 😍 i was scared o...   \n",
       "1           5  This laptop is soo good and I bought it after ...   \n",
       "2           5  Amazing laptop just great i bought this produc...   \n",
       "3           5  Brought this laptop after fair bit of research...   \n",
       "4           5  11400 Has Much Better Single Core Performance ...   \n",
       "...       ...                                                ...   \n",
       "32752       5  Good quality bin budget segment, 1 HDMI, 1 VGA...   \n",
       "32753       5                                               Good   \n",
       "32754       5  Nice product! Used for my cctv purpose! Its st...   \n",
       "32755       5                                       Good product   \n",
       "32756       1                                        Third class   \n",
       "\n",
       "                     Summary  \n",
       "0        Best in the market!  \n",
       "1                  Brilliant  \n",
       "2                  Brilliant  \n",
       "3                   Terrific  \n",
       "4      Mind-blowing purchase  \n",
       "...                      ...  \n",
       "32752       Perfect product!  \n",
       "32753         Classy product  \n",
       "32754         Classy product  \n",
       "32755       Perfect product!  \n",
       "32756       Terrible product  \n",
       "\n",
       "[32757 rows x 3 columns]"
      ]
     },
     "execution_count": 27,
     "metadata": {},
     "output_type": "execute_result"
    }
   ],
   "source": [
    "df=pd.DataFrame()\n",
    "df['Ratings']=ratings\n",
    "df['Review_Text']=review_text\n",
    "df['Summary']=title\n",
    "df"
   ]
  },
  {
   "cell_type": "code",
   "execution_count": 29,
   "id": "84890ce6",
   "metadata": {},
   "outputs": [],
   "source": [
    "df.to_csv(r\"E:\\Ratings\\flipkart_ratings.csv\")"
   ]
  },
  {
   "cell_type": "code",
   "execution_count": null,
   "id": "916946c1",
   "metadata": {},
   "outputs": [],
   "source": [
    "driver.close()"
   ]
  },
  {
   "cell_type": "code",
   "execution_count": null,
   "id": "24f5bf4a",
   "metadata": {},
   "outputs": [],
   "source": []
  },
  {
   "cell_type": "markdown",
   "id": "201215d0",
   "metadata": {},
   "source": [
    "# `Amazon`"
   ]
  },
  {
   "cell_type": "code",
   "execution_count": 57,
   "id": "6122a1ce",
   "metadata": {},
   "outputs": [
    {
     "data": {
      "text/plain": [
       "<selenium.webdriver.chrome.webdriver.WebDriver (session=\"ece72a661ad3b0ddbfa3a544bb462c60\")>"
      ]
     },
     "execution_count": 57,
     "metadata": {},
     "output_type": "execute_result"
    }
   ],
   "source": [
    "driver=webdriver.Chrome('chromedriver.exe')\n",
    "driver"
   ]
  },
  {
   "cell_type": "code",
   "execution_count": 39,
   "id": "233532a8",
   "metadata": {},
   "outputs": [],
   "source": [
    "### creating a list of Items, for which we have to scrap their ratings\n",
    "List_of_items = ['laptops','Smartphones','smart watches' , 'Printers','Computer moniters', \n",
    "                 'Digital Watches', 'Router','Cameras','Trimmers','Keyboards']\n"
   ]
  },
  {
   "cell_type": "code",
   "execution_count": 40,
   "id": "4d187a99",
   "metadata": {},
   "outputs": [],
   "source": [
    "title = []\n",
    "review_text = []\n",
    "ratings = []"
   ]
  },
  {
   "cell_type": "code",
   "execution_count": 41,
   "id": "9fb7b2f8",
   "metadata": {},
   "outputs": [],
   "source": [
    " ## Now we will create a empty list and add all the  item's URLs present in page one.\n",
    "Product_URL=[]\n",
    "\n",
    "## Iterating items one by one in the loop and storing the urls\n",
    "for i in List_of_items:\n",
    "    ## fetching  the website\n",
    "    driver.get(\"https://www.amazon.in/\")\n",
    "    time.sleep(3)\n",
    "    \n",
    "    srchbar = driver.find_element_by_id(\"twotabsearchtextbox\")\n",
    "    srchbar.send_keys(i)\n",
    "    \n",
    "    #clicking on search button\n",
    "    \n",
    "    driver.find_element_by_id(\"nav-search-submit-button\").click()  \n",
    "    time.sleep(1)\n",
    "   \n",
    "  \n",
    "    tag=driver.find_elements_by_xpath(\"//h2[@class='a-size-mini a-spacing-none a-color-base s-line-clamp-2']/a\")\n",
    "    for i in tag:\n",
    "        Product_URL.append(i.get_attribute('href'))"
   ]
  },
  {
   "cell_type": "code",
   "execution_count": 42,
   "id": "83dddd19",
   "metadata": {},
   "outputs": [
    {
     "name": "stdout",
     "output_type": "stream",
     "text": [
      "274\n"
     ]
    }
   ],
   "source": [
    "## Priting the length of the list which contains all the product urls\n",
    "print(len(Product_URL))"
   ]
  },
  {
   "cell_type": "code",
   "execution_count": 68,
   "id": "be895ff8",
   "metadata": {},
   "outputs": [],
   "source": [
    "## Now we create five New empty list for every type of Star rating button's url.\n",
    "Five_star_rating_URL=[]\n",
    "Four_star_rating_URL=[]\n",
    "Three_star_rating_URL=[]\n",
    "Two_star_rating_URL=[]\n",
    "One_star_rating_URL=[]\n",
    "\n",
    "### Iterating all the product URL\n",
    "for i in Product_URL[:250]:\n",
    "    driver.get(i)\n",
    "    time.sleep(1)\n",
    "    for _ in range(2):\n",
    "        ## scolling the cursor at down of the page\n",
    "        driver.execute_script(\"window.scrollBy(0,6000)\")\n",
    "        time.sleep(1)\n",
    "        # Clicking on \"see all reviews\" Button\n",
    "        try:\n",
    "            driver.find_element_by_xpath(\"//a[@class='a-link-emphasis a-text-bold']\").click()\n",
    "        except:\n",
    "            pass\n",
    "        \n",
    "        try:\n",
    "            tag1= driver.find_element_by_xpath(\"//table[@id='histogramTable']/tbody/tr[5]/td[2]/a\")\n",
    "            One_star_rating_URL.append(tag1.get_attribute('href'))\n",
    "        except:\n",
    "            pass\n",
    "        try:\n",
    "            tag2 = driver.find_element_by_xpath(\"//table[@id='histogramTable']/tbody/tr[4]/td[2]/a\")\n",
    "            Two_star_rating_URL.append(tag2.get_attribute('href'))\n",
    "        except:\n",
    "            pass\n",
    "        try:\n",
    "            tag3 = driver.find_element_by_xpath(\"//table[@id='histogramTable']/tbody/tr[3]/td[2]/a\")\n",
    "            for i in tag3:\n",
    "                Three_star_rating_URL.append(tag3.get_attribute('href'))\n",
    "        except:\n",
    "            pass\n",
    "        try:\n",
    "            tag4 = driver.find_element_by_xpath(\"//table[@id='histogramTable']/tbody/tr[2]/td[2]/a\")\n",
    "            Four_star_rating_URL.append(tag4.get_attribute('href'))\n",
    "        except:\n",
    "            pass\n",
    "        try:\n",
    "            tag5 = driver.find_element_by_xpath(\"//table[@id='histogramTable']/tbody/tr[1]/td[2]/a\")\n",
    "            Five_star_rating_URL.append(tag5.get_attribute('href'))\n",
    "        except:\n",
    "            pass        "
   ]
  },
  {
   "cell_type": "code",
   "execution_count": 69,
   "id": "b0e61093",
   "metadata": {},
   "outputs": [
    {
     "name": "stdout",
     "output_type": "stream",
     "text": [
      "343\n",
      "332\n",
      "336\n",
      "342\n",
      "346\n"
     ]
    }
   ],
   "source": [
    "print(len(One_star_rating_URL))\n",
    "print(len(Two_star_rating_URL))\n",
    "print(len(Three_star_rating_URL))\n",
    "print(len(Four_star_rating_URL))\n",
    "print(len(Five_star_rating_URL))"
   ]
  },
  {
   "cell_type": "markdown",
   "id": "a1c81c91",
   "metadata": {},
   "source": [
    "### \"1\" Star Ratings reviews"
   ]
  },
  {
   "cell_type": "code",
   "execution_count": 142,
   "id": "d7dd87c0",
   "metadata": {},
   "outputs": [],
   "source": [
    "## As we know one_star_rating list contains only 1Star rating reviews so,\n",
    "reviews_1=[]\n",
    "Full_reviews_1=[]\n",
    "for i in One_star_rating_URL:\n",
    "    driver.get(i)\n",
    "    time.sleep(1)\n",
    "    \n",
    "   \n",
    "    try:\n",
    "        tag=driver.find_elements_by_xpath('//div[@class=\"a-section a-spacing-none review-views celwidget\"]/div/div/div/div/a[@data-hook=\"review-title\"]')\n",
    "        for i in tag:\n",
    "            reviews_1.append(i.text)\n",
    "    except NoSuchElementException:\n",
    "        reviews_1.append('-')\n",
    "    \n",
    "    try:\n",
    "        tag=driver.find_elements_by_xpath('//div[@class=\"a-section a-spacing-none review-views celwidget\"]/div/div/div/div[@class=\"a-row a-spacing-small review-data\"]')\n",
    "        for i in tag:\n",
    "            Full_reviews_1.append(i.text)\n",
    "    except NoSuchElementException:\n",
    "        Full_reviews_1.append('-')    "
   ]
  },
  {
   "cell_type": "code",
   "execution_count": 147,
   "id": "7de49f26",
   "metadata": {},
   "outputs": [
    {
     "name": "stdout",
     "output_type": "stream",
     "text": [
      "3016 3016\n"
     ]
    }
   ],
   "source": [
    "print(len(reviews_1),len(Full_reviews_1))"
   ]
  },
  {
   "cell_type": "code",
   "execution_count": 148,
   "id": "890202b2",
   "metadata": {},
   "outputs": [],
   "source": [
    "## creating a list of Ratings:\n",
    "ratings_1=[1]*3016"
   ]
  },
  {
   "cell_type": "markdown",
   "id": "188b03eb",
   "metadata": {},
   "source": [
    "### \"2\" Star Rating Reviews:"
   ]
  },
  {
   "cell_type": "code",
   "execution_count": 153,
   "id": "681fbd05",
   "metadata": {},
   "outputs": [],
   "source": [
    "## As we know two_star_rating list contains only 2 Star rating reviews so,\n",
    "reviews_2=[]\n",
    "Full_reviews_2=[]\n",
    "\n",
    "for i in Two_star_rating_URL[:300]:\n",
    "    driver.get(i)\n",
    "    time.sleep(1)\n",
    "    try:\n",
    "        tag=driver.find_elements_by_xpath('//div[@class=\"a-section a-spacing-none review-views celwidget\"]/div/div/div/div/a[@data-hook=\"review-title\"]')\n",
    "        for i in tag:\n",
    "            reviews_2.append(i.text)\n",
    "    except NoSuchElementException:\n",
    "        reviews_2.append('-')\n",
    "    \n",
    "    try:\n",
    "        tag=driver.find_elements_by_xpath('//div[@class=\"a-section a-spacing-none review-views celwidget\"]/div/div/div/div[@class=\"a-row a-spacing-small review-data\"]')\n",
    "        for i in tag:\n",
    "            Full_reviews_2.append(i.text)\n",
    "    except NoSuchElementException:\n",
    "        Full_reviews_2.append('-') "
   ]
  },
  {
   "cell_type": "code",
   "execution_count": 154,
   "id": "cd4bbf75",
   "metadata": {},
   "outputs": [
    {
     "name": "stdout",
     "output_type": "stream",
     "text": [
      "1678 1678\n"
     ]
    }
   ],
   "source": [
    "print(len(reviews_2),len(Full_reviews_2))"
   ]
  },
  {
   "cell_type": "code",
   "execution_count": 155,
   "id": "b6c03d0c",
   "metadata": {},
   "outputs": [],
   "source": [
    "### creating 2 Star rating list:\n",
    "ratings_2=[2]*1678"
   ]
  },
  {
   "cell_type": "markdown",
   "id": "7eb78a52",
   "metadata": {},
   "source": [
    "### \"3\" Star Rating Reviews:-"
   ]
  },
  {
   "cell_type": "code",
   "execution_count": 158,
   "id": "354b1e2e",
   "metadata": {},
   "outputs": [],
   "source": [
    "## As we know three_star_rating list contains only 3 Star rating reviews so,\n",
    "reviews_3=[]\n",
    "Full_reviews_3=[]\n",
    "\n",
    "for i in Three_star_rating_URL:\n",
    "    driver.get(i)\n",
    "    time.sleep(1)\n",
    "   \n",
    "    try:\n",
    "        tag=driver.find_elements_by_xpath('//a[@data-hook=\"review-title\"]')\n",
    "        for i in tag:\n",
    "            reviews_3.append(i.text)\n",
    "    except NoSuchElementException:\n",
    "        reviews_3.append('-')\n",
    "    \n",
    "    try:\n",
    "        tag=driver.find_elements_by_xpath('//div[@class=\"a-row a-spacing-small review-data\"]//span[@data-hook=\"review-body\"]')\n",
    "        for i in tag:\n",
    "            Full_reviews_3.append(i.text)\n",
    "    except NoSuchElementException:\n",
    "        Full_reviews_3.append('-') "
   ]
  },
  {
   "cell_type": "code",
   "execution_count": 164,
   "id": "c10491ba",
   "metadata": {},
   "outputs": [
    {
     "name": "stdout",
     "output_type": "stream",
     "text": [
      "2066 2066\n"
     ]
    }
   ],
   "source": [
    "print(len(reviews_3),len(Full_reviews_3))"
   ]
  },
  {
   "cell_type": "code",
   "execution_count": 165,
   "id": "599e473c",
   "metadata": {},
   "outputs": [],
   "source": [
    "## Creating a 3 Star rating list\n",
    "ratings_3=[3]*2066"
   ]
  },
  {
   "cell_type": "markdown",
   "id": "fbb9af4b",
   "metadata": {},
   "source": [
    "### \"4\" Star Rating Reviews"
   ]
  },
  {
   "cell_type": "code",
   "execution_count": 168,
   "id": "8651839e",
   "metadata": {},
   "outputs": [],
   "source": [
    "## As we know Four_star_rating list contains only 4 Star rating reviews so,\n",
    "reviews_4=[]\n",
    "Full_reviews_4=[]\n",
    "\n",
    "for i in Four_star_rating_URL:\n",
    "    driver.get(i)\n",
    "    time.sleep(1)\n",
    "   \n",
    "    try:\n",
    "        tag=driver.find_elements_by_xpath('//div[@class=\"a-section a-spacing-none review-views celwidget\"]/div/div/div/div/a[@data-hook=\"review-title\"]')\n",
    "        for i in tag:\n",
    "            reviews_4.append(i.text)\n",
    "    except NoSuchElementException:\n",
    "        reviews_4.append('-')\n",
    "    \n",
    "    try:\n",
    "        tag=driver.find_elements_by_xpath('//div[@class=\"a-section a-spacing-none review-views celwidget\"]/div/div/div/div[@class=\"a-row a-spacing-small review-data\"]')\n",
    "        for i in tag:\n",
    "            Full_reviews_4.append(i.text)\n",
    "    except NoSuchElementException:\n",
    "        Full_reviews_4.append('-')  "
   ]
  },
  {
   "cell_type": "code",
   "execution_count": 171,
   "id": "f6fd4b2f",
   "metadata": {},
   "outputs": [
    {
     "name": "stdout",
     "output_type": "stream",
     "text": [
      "2834 2834\n"
     ]
    }
   ],
   "source": [
    "print(len(reviews_4),len(Full_reviews_4))"
   ]
  },
  {
   "cell_type": "code",
   "execution_count": 172,
   "id": "e797b098",
   "metadata": {},
   "outputs": [],
   "source": [
    "### Creating a list of 4 Star Reviews:\n",
    "ratings_4=[4]*2834"
   ]
  },
  {
   "cell_type": "markdown",
   "id": "e75fd5f4",
   "metadata": {},
   "source": [
    "### \"5\" Star Rating Reviews:"
   ]
  },
  {
   "cell_type": "code",
   "execution_count": 178,
   "id": "bb2523b7",
   "metadata": {},
   "outputs": [],
   "source": [
    "## As we know Five_star_rating list contains only 5 Star rating reviews so,\n",
    "reviews_5=[]\n",
    "full_reviews_5=[]\n",
    "\n",
    "for i in Five_star_rating_URL:\n",
    "    driver.get(i)\n",
    "    time.sleep(1)\n",
    "   \n",
    "    try:\n",
    "        tag=driver.find_elements_by_xpath('//a[@data-hook=\"review-title\"]')\n",
    "        for i in tag:\n",
    "            reviews_5.append(i.text)\n",
    "    except NoSuchElementException:\n",
    "        reviews_5.append('-')\n",
    "    \n",
    "    try:\n",
    "        tag=driver.find_elements_by_xpath('//div[@class=\"a-row a-spacing-small review-data\"]//span[@data-hook=\"review-body\"]')\n",
    "        for i in tag:\n",
    "            Full_reviews_5.append(i.text)\n",
    "    except NoSuchElementException:\n",
    "        Full_reviews_5.append('-')  "
   ]
  },
  {
   "cell_type": "code",
   "execution_count": null,
   "id": "eb654816",
   "metadata": {},
   "outputs": [],
   "source": [
    "print(len(reviews_5),len(full_reviews_5))"
   ]
  },
  {
   "cell_type": "code",
   "execution_count": null,
   "id": "6c890eba",
   "metadata": {},
   "outputs": [],
   "source": [
    "## Creating a 5 Star ratings reviews:\n",
    "ratings_5=[5]*3000"
   ]
  },
  {
   "cell_type": "markdown",
   "id": "2ee06e58",
   "metadata": {},
   "source": [
    "### Adding All the Reviews and Ratings:"
   ]
  },
  {
   "cell_type": "code",
   "execution_count": 181,
   "id": "bac581a9",
   "metadata": {},
   "outputs": [],
   "source": [
    "Reviews=reviews_1+reviews_2+reviews_3+reviews_4+reviews_5\n",
    "Full_Reviews=Full_reviews_1+Full_reviews_2+Full_reviews_3+Full_reviews_4+Full_reviews_5\n",
    "Ratings=ratings_1+ratings_2+ratings_3+ratings_4+ratings_5"
   ]
  },
  {
   "cell_type": "markdown",
   "id": "7f75ce7f",
   "metadata": {},
   "source": [
    "## Creating A DataFrame:"
   ]
  },
  {
   "cell_type": "code",
   "execution_count": 182,
   "id": "a9e26629",
   "metadata": {},
   "outputs": [
    {
     "data": {
      "text/html": [
       "<div>\n",
       "<style scoped>\n",
       "    .dataframe tbody tr th:only-of-type {\n",
       "        vertical-align: middle;\n",
       "    }\n",
       "\n",
       "    .dataframe tbody tr th {\n",
       "        vertical-align: top;\n",
       "    }\n",
       "\n",
       "    .dataframe thead th {\n",
       "        text-align: right;\n",
       "    }\n",
       "</style>\n",
       "<table border=\"1\" class=\"dataframe\">\n",
       "  <thead>\n",
       "    <tr style=\"text-align: right;\">\n",
       "      <th></th>\n",
       "      <th>Ratings</th>\n",
       "      <th>Review_Text</th>\n",
       "      <th>Summary</th>\n",
       "    </tr>\n",
       "  </thead>\n",
       "  <tbody>\n",
       "    <tr>\n",
       "      <th>0</th>\n",
       "      <td>1</td>\n",
       "      <td>The MRP as per the product detail is Rs.18,000...</td>\n",
       "      <td>MRP MENTIONED ON THE COVER of MONITOR IS LESS ...</td>\n",
       "    </tr>\n",
       "    <tr>\n",
       "      <th>1</th>\n",
       "      <td>1</td>\n",
       "      <td>You know, amazon service!\\nSometimes it makes ...</td>\n",
       "      <td>A worst nightmare of a purchase I did, please ...</td>\n",
       "    </tr>\n",
       "    <tr>\n",
       "      <th>2</th>\n",
       "      <td>1</td>\n",
       "      <td>Backlight bleeding issue worst display</td>\n",
       "      <td>Facing backlight bleeding</td>\n",
       "    </tr>\n",
       "    <tr>\n",
       "      <th>3</th>\n",
       "      <td>1</td>\n",
       "      <td>I have not used it so far but I am giving rati...</td>\n",
       "      <td>Only 21 inch not 24 inch</td>\n",
       "    </tr>\n",
       "    <tr>\n",
       "      <th>4</th>\n",
       "      <td>1</td>\n",
       "      <td>1) There is only tilt adjustment, that too ver...</td>\n",
       "      <td>There is no height adjustment.</td>\n",
       "    </tr>\n",
       "    <tr>\n",
       "      <th>...</th>\n",
       "      <td>...</td>\n",
       "      <td>...</td>\n",
       "      <td>...</td>\n",
       "    </tr>\n",
       "    <tr>\n",
       "      <th>9589</th>\n",
       "      <td>4</td>\n",
       "      <td>I am writting this review after 3months of usa...</td>\n",
       "      <td>Great Monitor, sleek and Compact</td>\n",
       "    </tr>\n",
       "    <tr>\n",
       "      <th>9590</th>\n",
       "      <td>4</td>\n",
       "      <td>Got the product yesterday. Took about an hour ...</td>\n",
       "      <td>Great monitor for daily use/ programming</td>\n",
       "    </tr>\n",
       "    <tr>\n",
       "      <th>9591</th>\n",
       "      <td>4</td>\n",
       "      <td>Writing this review after a week's use... But ...</td>\n",
       "      <td>Excellent picture quality</td>\n",
       "    </tr>\n",
       "    <tr>\n",
       "      <th>9592</th>\n",
       "      <td>4</td>\n",
       "      <td>It wouldn't install wirelessly, so I plugged i...</td>\n",
       "      <td>Don't forget to set refresh rate to 75Hz</td>\n",
       "    </tr>\n",
       "    <tr>\n",
       "      <th>9593</th>\n",
       "      <td>4</td>\n",
       "      <td>Black and white printing very good. Color is j...</td>\n",
       "      <td>Average</td>\n",
       "    </tr>\n",
       "  </tbody>\n",
       "</table>\n",
       "<p>9594 rows × 3 columns</p>\n",
       "</div>"
      ],
      "text/plain": [
       "      Ratings                                        Review_Text  \\\n",
       "0           1  The MRP as per the product detail is Rs.18,000...   \n",
       "1           1  You know, amazon service!\\nSometimes it makes ...   \n",
       "2           1             Backlight bleeding issue worst display   \n",
       "3           1  I have not used it so far but I am giving rati...   \n",
       "4           1  1) There is only tilt adjustment, that too ver...   \n",
       "...       ...                                                ...   \n",
       "9589        4  I am writting this review after 3months of usa...   \n",
       "9590        4  Got the product yesterday. Took about an hour ...   \n",
       "9591        4  Writing this review after a week's use... But ...   \n",
       "9592        4  It wouldn't install wirelessly, so I plugged i...   \n",
       "9593        4  Black and white printing very good. Color is j...   \n",
       "\n",
       "                                                Summary  \n",
       "0     MRP MENTIONED ON THE COVER of MONITOR IS LESS ...  \n",
       "1     A worst nightmare of a purchase I did, please ...  \n",
       "2                             Facing backlight bleeding  \n",
       "3                              Only 21 inch not 24 inch  \n",
       "4                        There is no height adjustment.  \n",
       "...                                                 ...  \n",
       "9589                   Great Monitor, sleek and Compact  \n",
       "9590           Great monitor for daily use/ programming  \n",
       "9591                          Excellent picture quality  \n",
       "9592           Don't forget to set refresh rate to 75Hz  \n",
       "9593                                            Average  \n",
       "\n",
       "[9594 rows x 3 columns]"
      ]
     },
     "execution_count": 182,
     "metadata": {},
     "output_type": "execute_result"
    }
   ],
   "source": [
    "new_df=pd.DataFrame()\n",
    "new_df['Ratings']=Ratings\n",
    "new_df['Review_Text']=Full_Reviews\n",
    "new_df['Summary']=Reviews\n",
    "new_df"
   ]
  },
  {
   "cell_type": "code",
   "execution_count": 183,
   "id": "6fe0c8f8",
   "metadata": {},
   "outputs": [],
   "source": [
    "df_new.to_csv(r\"E:\\Ratings\\Amazon_ratings.csv\")"
   ]
  },
  {
   "cell_type": "markdown",
   "id": "8131a5ca",
   "metadata": {},
   "source": [
    "## Adding All Data"
   ]
  },
  {
   "cell_type": "code",
   "execution_count": 185,
   "id": "f72ceaab",
   "metadata": {},
   "outputs": [
    {
     "data": {
      "text/html": [
       "<div>\n",
       "<style scoped>\n",
       "    .dataframe tbody tr th:only-of-type {\n",
       "        vertical-align: middle;\n",
       "    }\n",
       "\n",
       "    .dataframe tbody tr th {\n",
       "        vertical-align: top;\n",
       "    }\n",
       "\n",
       "    .dataframe thead th {\n",
       "        text-align: right;\n",
       "    }\n",
       "</style>\n",
       "<table border=\"1\" class=\"dataframe\">\n",
       "  <thead>\n",
       "    <tr style=\"text-align: right;\">\n",
       "      <th></th>\n",
       "      <th>Ratings</th>\n",
       "      <th>Review_Text</th>\n",
       "      <th>Summary</th>\n",
       "    </tr>\n",
       "  </thead>\n",
       "  <tbody>\n",
       "    <tr>\n",
       "      <th>0</th>\n",
       "      <td>5</td>\n",
       "      <td>Mannn this is just incredible 😍 i was scared o...</td>\n",
       "      <td>Best in the market!</td>\n",
       "    </tr>\n",
       "    <tr>\n",
       "      <th>1</th>\n",
       "      <td>5</td>\n",
       "      <td>This laptop is soo good and I bought it after ...</td>\n",
       "      <td>Brilliant</td>\n",
       "    </tr>\n",
       "    <tr>\n",
       "      <th>2</th>\n",
       "      <td>5</td>\n",
       "      <td>Amazing laptop just great i bought this produc...</td>\n",
       "      <td>Brilliant</td>\n",
       "    </tr>\n",
       "    <tr>\n",
       "      <th>3</th>\n",
       "      <td>5</td>\n",
       "      <td>Brought this laptop after fair bit of research...</td>\n",
       "      <td>Terrific</td>\n",
       "    </tr>\n",
       "    <tr>\n",
       "      <th>4</th>\n",
       "      <td>5</td>\n",
       "      <td>11400 Has Much Better Single Core Performance ...</td>\n",
       "      <td>Mind-blowing purchase</td>\n",
       "    </tr>\n",
       "    <tr>\n",
       "      <th>...</th>\n",
       "      <td>...</td>\n",
       "      <td>...</td>\n",
       "      <td>...</td>\n",
       "    </tr>\n",
       "    <tr>\n",
       "      <th>9589</th>\n",
       "      <td>4</td>\n",
       "      <td>I am writting this review after 3months of usa...</td>\n",
       "      <td>Great Monitor, sleek and Compact</td>\n",
       "    </tr>\n",
       "    <tr>\n",
       "      <th>9590</th>\n",
       "      <td>4</td>\n",
       "      <td>Got the product yesterday. Took about an hour ...</td>\n",
       "      <td>Great monitor for daily use/ programming</td>\n",
       "    </tr>\n",
       "    <tr>\n",
       "      <th>9591</th>\n",
       "      <td>4</td>\n",
       "      <td>Writing this review after a week's use... But ...</td>\n",
       "      <td>Excellent picture quality</td>\n",
       "    </tr>\n",
       "    <tr>\n",
       "      <th>9592</th>\n",
       "      <td>4</td>\n",
       "      <td>It wouldn't install wirelessly, so I plugged i...</td>\n",
       "      <td>Don't forget to set refresh rate to 75Hz</td>\n",
       "    </tr>\n",
       "    <tr>\n",
       "      <th>9593</th>\n",
       "      <td>4</td>\n",
       "      <td>Black and white printing very good. Color is j...</td>\n",
       "      <td>Average</td>\n",
       "    </tr>\n",
       "  </tbody>\n",
       "</table>\n",
       "<p>42351 rows × 3 columns</p>\n",
       "</div>"
      ],
      "text/plain": [
       "     Ratings                                        Review_Text  \\\n",
       "0          5  Mannn this is just incredible 😍 i was scared o...   \n",
       "1          5  This laptop is soo good and I bought it after ...   \n",
       "2          5  Amazing laptop just great i bought this produc...   \n",
       "3          5  Brought this laptop after fair bit of research...   \n",
       "4          5  11400 Has Much Better Single Core Performance ...   \n",
       "...      ...                                                ...   \n",
       "9589       4  I am writting this review after 3months of usa...   \n",
       "9590       4  Got the product yesterday. Took about an hour ...   \n",
       "9591       4  Writing this review after a week's use... But ...   \n",
       "9592       4  It wouldn't install wirelessly, so I plugged i...   \n",
       "9593       4  Black and white printing very good. Color is j...   \n",
       "\n",
       "                                       Summary  \n",
       "0                          Best in the market!  \n",
       "1                                    Brilliant  \n",
       "2                                    Brilliant  \n",
       "3                                     Terrific  \n",
       "4                        Mind-blowing purchase  \n",
       "...                                        ...  \n",
       "9589          Great Monitor, sleek and Compact  \n",
       "9590  Great monitor for daily use/ programming  \n",
       "9591                 Excellent picture quality  \n",
       "9592  Don't forget to set refresh rate to 75Hz  \n",
       "9593                                   Average  \n",
       "\n",
       "[42351 rows x 3 columns]"
      ]
     },
     "execution_count": 185,
     "metadata": {},
     "output_type": "execute_result"
    }
   ],
   "source": [
    "data=pd.concat([df,new_df],axis=0)\n",
    "data"
   ]
  },
  {
   "cell_type": "code",
   "execution_count": 186,
   "id": "156bfa8b",
   "metadata": {},
   "outputs": [],
   "source": [
    "df.to_csv(r\"E:\\Ratings\\Product_Ratings_Datasheet.csv\")"
   ]
  },
  {
   "cell_type": "code",
   "execution_count": null,
   "id": "3b647407",
   "metadata": {},
   "outputs": [],
   "source": [
    "driver.close()"
   ]
  }
 ],
 "metadata": {
  "kernelspec": {
   "display_name": "Python 3",
   "language": "python",
   "name": "python3"
  },
  "language_info": {
   "codemirror_mode": {
    "name": "ipython",
    "version": 3
   },
   "file_extension": ".py",
   "mimetype": "text/x-python",
   "name": "python",
   "nbconvert_exporter": "python",
   "pygments_lexer": "ipython3",
   "version": "3.8.8"
  },
  "widgets": {
   "application/vnd.jupyter.widget-state+json": {
    "state": {},
    "version_major": 2,
    "version_minor": 0
   }
  }
 },
 "nbformat": 4,
 "nbformat_minor": 5
}
